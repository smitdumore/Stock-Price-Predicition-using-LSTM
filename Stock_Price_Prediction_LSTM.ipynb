{
  "nbformat": 4,
  "nbformat_minor": 0,
  "metadata": {
    "colab": {
      "provenance": []
    },
    "kernelspec": {
      "name": "python3",
      "display_name": "Python 3"
    },
    "language_info": {
      "name": "python"
    }
  },
  "cells": [
    {
      "cell_type": "code",
      "execution_count": 3,
      "metadata": {
        "colab": {
          "base_uri": "https://localhost:8080/",
          "height": 658
        },
        "id": "x3j-P-omdwVR",
        "outputId": "4bde9294-4852-4fe0-fe99-3ddbdb45d4cb"
      },
      "outputs": [
        {
          "output_type": "execute_result",
          "data": {
            "text/plain": [
              "            Date        Open        High         Low       Close   Adj Close  \\\n",
              "0     1997-05-15    0.121875    0.125000    0.096354    0.097917    0.097917   \n",
              "1     1997-05-16    0.098438    0.098958    0.085417    0.086458    0.086458   \n",
              "2     1997-05-19    0.088021    0.088542    0.081250    0.085417    0.085417   \n",
              "3     1997-05-20    0.086458    0.087500    0.081771    0.081771    0.081771   \n",
              "4     1997-05-21    0.081771    0.082292    0.068750    0.071354    0.071354   \n",
              "...          ...         ...         ...         ...         ...         ...   \n",
              "6511  2023-03-30  101.550003  103.040001  101.010002  102.000000  102.000000   \n",
              "6512  2023-03-31  102.160004  103.489998  101.949997  103.290001  103.290001   \n",
              "6513  2023-04-03  102.300003  103.290001  101.430000  102.410004  102.410004   \n",
              "6514  2023-04-04  102.750000  104.199997  102.110001  103.949997  103.949997   \n",
              "6515  2023-04-05  103.910004  103.910004  100.750000  101.099998  101.099998   \n",
              "\n",
              "          Volume  \n",
              "0     1443120000  \n",
              "1      294000000  \n",
              "2      122136000  \n",
              "3      109344000  \n",
              "4      377064000  \n",
              "...          ...  \n",
              "6511    53633400  \n",
              "6512    56704300  \n",
              "6513    41135700  \n",
              "6514    48662500  \n",
              "6515    45103000  \n",
              "\n",
              "[6516 rows x 7 columns]"
            ],
            "text/html": [
              "\n",
              "\n",
              "  <div id=\"df-f1f1c099-7332-4682-a84b-9ae653442e84\">\n",
              "    <div class=\"colab-df-container\">\n",
              "      <div>\n",
              "<style scoped>\n",
              "    .dataframe tbody tr th:only-of-type {\n",
              "        vertical-align: middle;\n",
              "    }\n",
              "\n",
              "    .dataframe tbody tr th {\n",
              "        vertical-align: top;\n",
              "    }\n",
              "\n",
              "    .dataframe thead th {\n",
              "        text-align: right;\n",
              "    }\n",
              "</style>\n",
              "<table border=\"1\" class=\"dataframe\">\n",
              "  <thead>\n",
              "    <tr style=\"text-align: right;\">\n",
              "      <th></th>\n",
              "      <th>Date</th>\n",
              "      <th>Open</th>\n",
              "      <th>High</th>\n",
              "      <th>Low</th>\n",
              "      <th>Close</th>\n",
              "      <th>Adj Close</th>\n",
              "      <th>Volume</th>\n",
              "    </tr>\n",
              "  </thead>\n",
              "  <tbody>\n",
              "    <tr>\n",
              "      <th>0</th>\n",
              "      <td>1997-05-15</td>\n",
              "      <td>0.121875</td>\n",
              "      <td>0.125000</td>\n",
              "      <td>0.096354</td>\n",
              "      <td>0.097917</td>\n",
              "      <td>0.097917</td>\n",
              "      <td>1443120000</td>\n",
              "    </tr>\n",
              "    <tr>\n",
              "      <th>1</th>\n",
              "      <td>1997-05-16</td>\n",
              "      <td>0.098438</td>\n",
              "      <td>0.098958</td>\n",
              "      <td>0.085417</td>\n",
              "      <td>0.086458</td>\n",
              "      <td>0.086458</td>\n",
              "      <td>294000000</td>\n",
              "    </tr>\n",
              "    <tr>\n",
              "      <th>2</th>\n",
              "      <td>1997-05-19</td>\n",
              "      <td>0.088021</td>\n",
              "      <td>0.088542</td>\n",
              "      <td>0.081250</td>\n",
              "      <td>0.085417</td>\n",
              "      <td>0.085417</td>\n",
              "      <td>122136000</td>\n",
              "    </tr>\n",
              "    <tr>\n",
              "      <th>3</th>\n",
              "      <td>1997-05-20</td>\n",
              "      <td>0.086458</td>\n",
              "      <td>0.087500</td>\n",
              "      <td>0.081771</td>\n",
              "      <td>0.081771</td>\n",
              "      <td>0.081771</td>\n",
              "      <td>109344000</td>\n",
              "    </tr>\n",
              "    <tr>\n",
              "      <th>4</th>\n",
              "      <td>1997-05-21</td>\n",
              "      <td>0.081771</td>\n",
              "      <td>0.082292</td>\n",
              "      <td>0.068750</td>\n",
              "      <td>0.071354</td>\n",
              "      <td>0.071354</td>\n",
              "      <td>377064000</td>\n",
              "    </tr>\n",
              "    <tr>\n",
              "      <th>...</th>\n",
              "      <td>...</td>\n",
              "      <td>...</td>\n",
              "      <td>...</td>\n",
              "      <td>...</td>\n",
              "      <td>...</td>\n",
              "      <td>...</td>\n",
              "      <td>...</td>\n",
              "    </tr>\n",
              "    <tr>\n",
              "      <th>6511</th>\n",
              "      <td>2023-03-30</td>\n",
              "      <td>101.550003</td>\n",
              "      <td>103.040001</td>\n",
              "      <td>101.010002</td>\n",
              "      <td>102.000000</td>\n",
              "      <td>102.000000</td>\n",
              "      <td>53633400</td>\n",
              "    </tr>\n",
              "    <tr>\n",
              "      <th>6512</th>\n",
              "      <td>2023-03-31</td>\n",
              "      <td>102.160004</td>\n",
              "      <td>103.489998</td>\n",
              "      <td>101.949997</td>\n",
              "      <td>103.290001</td>\n",
              "      <td>103.290001</td>\n",
              "      <td>56704300</td>\n",
              "    </tr>\n",
              "    <tr>\n",
              "      <th>6513</th>\n",
              "      <td>2023-04-03</td>\n",
              "      <td>102.300003</td>\n",
              "      <td>103.290001</td>\n",
              "      <td>101.430000</td>\n",
              "      <td>102.410004</td>\n",
              "      <td>102.410004</td>\n",
              "      <td>41135700</td>\n",
              "    </tr>\n",
              "    <tr>\n",
              "      <th>6514</th>\n",
              "      <td>2023-04-04</td>\n",
              "      <td>102.750000</td>\n",
              "      <td>104.199997</td>\n",
              "      <td>102.110001</td>\n",
              "      <td>103.949997</td>\n",
              "      <td>103.949997</td>\n",
              "      <td>48662500</td>\n",
              "    </tr>\n",
              "    <tr>\n",
              "      <th>6515</th>\n",
              "      <td>2023-04-05</td>\n",
              "      <td>103.910004</td>\n",
              "      <td>103.910004</td>\n",
              "      <td>100.750000</td>\n",
              "      <td>101.099998</td>\n",
              "      <td>101.099998</td>\n",
              "      <td>45103000</td>\n",
              "    </tr>\n",
              "  </tbody>\n",
              "</table>\n",
              "<p>6516 rows × 7 columns</p>\n",
              "</div>\n",
              "      <button class=\"colab-df-convert\" onclick=\"convertToInteractive('df-f1f1c099-7332-4682-a84b-9ae653442e84')\"\n",
              "              title=\"Convert this dataframe to an interactive table.\"\n",
              "              style=\"display:none;\">\n",
              "\n",
              "  <svg xmlns=\"http://www.w3.org/2000/svg\" height=\"24px\"viewBox=\"0 0 24 24\"\n",
              "       width=\"24px\">\n",
              "    <path d=\"M0 0h24v24H0V0z\" fill=\"none\"/>\n",
              "    <path d=\"M18.56 5.44l.94 2.06.94-2.06 2.06-.94-2.06-.94-.94-2.06-.94 2.06-2.06.94zm-11 1L8.5 8.5l.94-2.06 2.06-.94-2.06-.94L8.5 2.5l-.94 2.06-2.06.94zm10 10l.94 2.06.94-2.06 2.06-.94-2.06-.94-.94-2.06-.94 2.06-2.06.94z\"/><path d=\"M17.41 7.96l-1.37-1.37c-.4-.4-.92-.59-1.43-.59-.52 0-1.04.2-1.43.59L10.3 9.45l-7.72 7.72c-.78.78-.78 2.05 0 2.83L4 21.41c.39.39.9.59 1.41.59.51 0 1.02-.2 1.41-.59l7.78-7.78 2.81-2.81c.8-.78.8-2.07 0-2.86zM5.41 20L4 18.59l7.72-7.72 1.47 1.35L5.41 20z\"/>\n",
              "  </svg>\n",
              "      </button>\n",
              "\n",
              "\n",
              "\n",
              "    <div id=\"df-4398435a-f730-417d-b4ab-6ef0b99bd195\">\n",
              "      <button class=\"colab-df-quickchart\" onclick=\"quickchart('df-4398435a-f730-417d-b4ab-6ef0b99bd195')\"\n",
              "              title=\"Suggest charts.\"\n",
              "              style=\"display:none;\">\n",
              "\n",
              "<svg xmlns=\"http://www.w3.org/2000/svg\" height=\"24px\"viewBox=\"0 0 24 24\"\n",
              "     width=\"24px\">\n",
              "    <g>\n",
              "        <path d=\"M19 3H5c-1.1 0-2 .9-2 2v14c0 1.1.9 2 2 2h14c1.1 0 2-.9 2-2V5c0-1.1-.9-2-2-2zM9 17H7v-7h2v7zm4 0h-2V7h2v10zm4 0h-2v-4h2v4z\"/>\n",
              "    </g>\n",
              "</svg>\n",
              "      </button>\n",
              "    </div>\n",
              "\n",
              "<style>\n",
              "  .colab-df-quickchart {\n",
              "    background-color: #E8F0FE;\n",
              "    border: none;\n",
              "    border-radius: 50%;\n",
              "    cursor: pointer;\n",
              "    display: none;\n",
              "    fill: #1967D2;\n",
              "    height: 32px;\n",
              "    padding: 0 0 0 0;\n",
              "    width: 32px;\n",
              "  }\n",
              "\n",
              "  .colab-df-quickchart:hover {\n",
              "    background-color: #E2EBFA;\n",
              "    box-shadow: 0px 1px 2px rgba(60, 64, 67, 0.3), 0px 1px 3px 1px rgba(60, 64, 67, 0.15);\n",
              "    fill: #174EA6;\n",
              "  }\n",
              "\n",
              "  [theme=dark] .colab-df-quickchart {\n",
              "    background-color: #3B4455;\n",
              "    fill: #D2E3FC;\n",
              "  }\n",
              "\n",
              "  [theme=dark] .colab-df-quickchart:hover {\n",
              "    background-color: #434B5C;\n",
              "    box-shadow: 0px 1px 3px 1px rgba(0, 0, 0, 0.15);\n",
              "    filter: drop-shadow(0px 1px 2px rgba(0, 0, 0, 0.3));\n",
              "    fill: #FFFFFF;\n",
              "  }\n",
              "</style>\n",
              "\n",
              "    <script>\n",
              "      async function quickchart(key) {\n",
              "        const containerElement = document.querySelector('#' + key);\n",
              "        const charts = await google.colab.kernel.invokeFunction(\n",
              "            'suggestCharts', [key], {});\n",
              "      }\n",
              "    </script>\n",
              "\n",
              "      <script>\n",
              "\n",
              "function displayQuickchartButton(domScope) {\n",
              "  let quickchartButtonEl =\n",
              "    domScope.querySelector('#df-4398435a-f730-417d-b4ab-6ef0b99bd195 button.colab-df-quickchart');\n",
              "  quickchartButtonEl.style.display =\n",
              "    google.colab.kernel.accessAllowed ? 'block' : 'none';\n",
              "}\n",
              "\n",
              "        displayQuickchartButton(document);\n",
              "      </script>\n",
              "      <style>\n",
              "    .colab-df-container {\n",
              "      display:flex;\n",
              "      flex-wrap:wrap;\n",
              "      gap: 12px;\n",
              "    }\n",
              "\n",
              "    .colab-df-convert {\n",
              "      background-color: #E8F0FE;\n",
              "      border: none;\n",
              "      border-radius: 50%;\n",
              "      cursor: pointer;\n",
              "      display: none;\n",
              "      fill: #1967D2;\n",
              "      height: 32px;\n",
              "      padding: 0 0 0 0;\n",
              "      width: 32px;\n",
              "    }\n",
              "\n",
              "    .colab-df-convert:hover {\n",
              "      background-color: #E2EBFA;\n",
              "      box-shadow: 0px 1px 2px rgba(60, 64, 67, 0.3), 0px 1px 3px 1px rgba(60, 64, 67, 0.15);\n",
              "      fill: #174EA6;\n",
              "    }\n",
              "\n",
              "    [theme=dark] .colab-df-convert {\n",
              "      background-color: #3B4455;\n",
              "      fill: #D2E3FC;\n",
              "    }\n",
              "\n",
              "    [theme=dark] .colab-df-convert:hover {\n",
              "      background-color: #434B5C;\n",
              "      box-shadow: 0px 1px 3px 1px rgba(0, 0, 0, 0.15);\n",
              "      filter: drop-shadow(0px 1px 2px rgba(0, 0, 0, 0.3));\n",
              "      fill: #FFFFFF;\n",
              "    }\n",
              "  </style>\n",
              "\n",
              "      <script>\n",
              "        const buttonEl =\n",
              "          document.querySelector('#df-f1f1c099-7332-4682-a84b-9ae653442e84 button.colab-df-convert');\n",
              "        buttonEl.style.display =\n",
              "          google.colab.kernel.accessAllowed ? 'block' : 'none';\n",
              "\n",
              "        async function convertToInteractive(key) {\n",
              "          const element = document.querySelector('#df-f1f1c099-7332-4682-a84b-9ae653442e84');\n",
              "          const dataTable =\n",
              "            await google.colab.kernel.invokeFunction('convertToInteractive',\n",
              "                                                     [key], {});\n",
              "          if (!dataTable) return;\n",
              "\n",
              "          const docLinkHtml = 'Like what you see? Visit the ' +\n",
              "            '<a target=\"_blank\" href=https://colab.research.google.com/notebooks/data_table.ipynb>data table notebook</a>'\n",
              "            + ' to learn more about interactive tables.';\n",
              "          element.innerHTML = '';\n",
              "          dataTable['output_type'] = 'display_data';\n",
              "          await google.colab.output.renderOutput(dataTable, element);\n",
              "          const docLink = document.createElement('div');\n",
              "          docLink.innerHTML = docLinkHtml;\n",
              "          element.appendChild(docLink);\n",
              "        }\n",
              "      </script>\n",
              "    </div>\n",
              "  </div>\n"
            ]
          },
          "metadata": {},
          "execution_count": 3
        }
      ],
      "source": [
        "import pandas as pd\n",
        "import numpy as np\n",
        "import matplotlib.pyplot as plt\n",
        "\n",
        "import torch\n",
        "import torch.nn as nn\n",
        "\n",
        "# Read Amazon stock data directly from csv\n",
        "data = pd.read_csv('AMZN.csv')\n",
        "\n",
        "# Print the data\n",
        "data"
      ]
    },
    {
      "cell_type": "code",
      "source": [
        "data = data[['Date', 'Close']]\n",
        "\n",
        "# We only need the date and the closing price\n",
        "data"
      ],
      "metadata": {
        "colab": {
          "base_uri": "https://localhost:8080/",
          "height": 423
        },
        "id": "Io7kqEgnd-1K",
        "outputId": "7b583ca5-69bd-4fe6-aafb-9947af562d6c"
      },
      "execution_count": 4,
      "outputs": [
        {
          "output_type": "execute_result",
          "data": {
            "text/plain": [
              "            Date       Close\n",
              "0     1997-05-15    0.097917\n",
              "1     1997-05-16    0.086458\n",
              "2     1997-05-19    0.085417\n",
              "3     1997-05-20    0.081771\n",
              "4     1997-05-21    0.071354\n",
              "...          ...         ...\n",
              "6511  2023-03-30  102.000000\n",
              "6512  2023-03-31  103.290001\n",
              "6513  2023-04-03  102.410004\n",
              "6514  2023-04-04  103.949997\n",
              "6515  2023-04-05  101.099998\n",
              "\n",
              "[6516 rows x 2 columns]"
            ],
            "text/html": [
              "\n",
              "\n",
              "  <div id=\"df-958369c9-68f9-4258-9d90-2ffd3cb220c9\">\n",
              "    <div class=\"colab-df-container\">\n",
              "      <div>\n",
              "<style scoped>\n",
              "    .dataframe tbody tr th:only-of-type {\n",
              "        vertical-align: middle;\n",
              "    }\n",
              "\n",
              "    .dataframe tbody tr th {\n",
              "        vertical-align: top;\n",
              "    }\n",
              "\n",
              "    .dataframe thead th {\n",
              "        text-align: right;\n",
              "    }\n",
              "</style>\n",
              "<table border=\"1\" class=\"dataframe\">\n",
              "  <thead>\n",
              "    <tr style=\"text-align: right;\">\n",
              "      <th></th>\n",
              "      <th>Date</th>\n",
              "      <th>Close</th>\n",
              "    </tr>\n",
              "  </thead>\n",
              "  <tbody>\n",
              "    <tr>\n",
              "      <th>0</th>\n",
              "      <td>1997-05-15</td>\n",
              "      <td>0.097917</td>\n",
              "    </tr>\n",
              "    <tr>\n",
              "      <th>1</th>\n",
              "      <td>1997-05-16</td>\n",
              "      <td>0.086458</td>\n",
              "    </tr>\n",
              "    <tr>\n",
              "      <th>2</th>\n",
              "      <td>1997-05-19</td>\n",
              "      <td>0.085417</td>\n",
              "    </tr>\n",
              "    <tr>\n",
              "      <th>3</th>\n",
              "      <td>1997-05-20</td>\n",
              "      <td>0.081771</td>\n",
              "    </tr>\n",
              "    <tr>\n",
              "      <th>4</th>\n",
              "      <td>1997-05-21</td>\n",
              "      <td>0.071354</td>\n",
              "    </tr>\n",
              "    <tr>\n",
              "      <th>...</th>\n",
              "      <td>...</td>\n",
              "      <td>...</td>\n",
              "    </tr>\n",
              "    <tr>\n",
              "      <th>6511</th>\n",
              "      <td>2023-03-30</td>\n",
              "      <td>102.000000</td>\n",
              "    </tr>\n",
              "    <tr>\n",
              "      <th>6512</th>\n",
              "      <td>2023-03-31</td>\n",
              "      <td>103.290001</td>\n",
              "    </tr>\n",
              "    <tr>\n",
              "      <th>6513</th>\n",
              "      <td>2023-04-03</td>\n",
              "      <td>102.410004</td>\n",
              "    </tr>\n",
              "    <tr>\n",
              "      <th>6514</th>\n",
              "      <td>2023-04-04</td>\n",
              "      <td>103.949997</td>\n",
              "    </tr>\n",
              "    <tr>\n",
              "      <th>6515</th>\n",
              "      <td>2023-04-05</td>\n",
              "      <td>101.099998</td>\n",
              "    </tr>\n",
              "  </tbody>\n",
              "</table>\n",
              "<p>6516 rows × 2 columns</p>\n",
              "</div>\n",
              "      <button class=\"colab-df-convert\" onclick=\"convertToInteractive('df-958369c9-68f9-4258-9d90-2ffd3cb220c9')\"\n",
              "              title=\"Convert this dataframe to an interactive table.\"\n",
              "              style=\"display:none;\">\n",
              "\n",
              "  <svg xmlns=\"http://www.w3.org/2000/svg\" height=\"24px\"viewBox=\"0 0 24 24\"\n",
              "       width=\"24px\">\n",
              "    <path d=\"M0 0h24v24H0V0z\" fill=\"none\"/>\n",
              "    <path d=\"M18.56 5.44l.94 2.06.94-2.06 2.06-.94-2.06-.94-.94-2.06-.94 2.06-2.06.94zm-11 1L8.5 8.5l.94-2.06 2.06-.94-2.06-.94L8.5 2.5l-.94 2.06-2.06.94zm10 10l.94 2.06.94-2.06 2.06-.94-2.06-.94-.94-2.06-.94 2.06-2.06.94z\"/><path d=\"M17.41 7.96l-1.37-1.37c-.4-.4-.92-.59-1.43-.59-.52 0-1.04.2-1.43.59L10.3 9.45l-7.72 7.72c-.78.78-.78 2.05 0 2.83L4 21.41c.39.39.9.59 1.41.59.51 0 1.02-.2 1.41-.59l7.78-7.78 2.81-2.81c.8-.78.8-2.07 0-2.86zM5.41 20L4 18.59l7.72-7.72 1.47 1.35L5.41 20z\"/>\n",
              "  </svg>\n",
              "      </button>\n",
              "\n",
              "\n",
              "\n",
              "    <div id=\"df-3843d1a1-0215-4545-a24b-b904670feed2\">\n",
              "      <button class=\"colab-df-quickchart\" onclick=\"quickchart('df-3843d1a1-0215-4545-a24b-b904670feed2')\"\n",
              "              title=\"Suggest charts.\"\n",
              "              style=\"display:none;\">\n",
              "\n",
              "<svg xmlns=\"http://www.w3.org/2000/svg\" height=\"24px\"viewBox=\"0 0 24 24\"\n",
              "     width=\"24px\">\n",
              "    <g>\n",
              "        <path d=\"M19 3H5c-1.1 0-2 .9-2 2v14c0 1.1.9 2 2 2h14c1.1 0 2-.9 2-2V5c0-1.1-.9-2-2-2zM9 17H7v-7h2v7zm4 0h-2V7h2v10zm4 0h-2v-4h2v4z\"/>\n",
              "    </g>\n",
              "</svg>\n",
              "      </button>\n",
              "    </div>\n",
              "\n",
              "<style>\n",
              "  .colab-df-quickchart {\n",
              "    background-color: #E8F0FE;\n",
              "    border: none;\n",
              "    border-radius: 50%;\n",
              "    cursor: pointer;\n",
              "    display: none;\n",
              "    fill: #1967D2;\n",
              "    height: 32px;\n",
              "    padding: 0 0 0 0;\n",
              "    width: 32px;\n",
              "  }\n",
              "\n",
              "  .colab-df-quickchart:hover {\n",
              "    background-color: #E2EBFA;\n",
              "    box-shadow: 0px 1px 2px rgba(60, 64, 67, 0.3), 0px 1px 3px 1px rgba(60, 64, 67, 0.15);\n",
              "    fill: #174EA6;\n",
              "  }\n",
              "\n",
              "  [theme=dark] .colab-df-quickchart {\n",
              "    background-color: #3B4455;\n",
              "    fill: #D2E3FC;\n",
              "  }\n",
              "\n",
              "  [theme=dark] .colab-df-quickchart:hover {\n",
              "    background-color: #434B5C;\n",
              "    box-shadow: 0px 1px 3px 1px rgba(0, 0, 0, 0.15);\n",
              "    filter: drop-shadow(0px 1px 2px rgba(0, 0, 0, 0.3));\n",
              "    fill: #FFFFFF;\n",
              "  }\n",
              "</style>\n",
              "\n",
              "    <script>\n",
              "      async function quickchart(key) {\n",
              "        const containerElement = document.querySelector('#' + key);\n",
              "        const charts = await google.colab.kernel.invokeFunction(\n",
              "            'suggestCharts', [key], {});\n",
              "      }\n",
              "    </script>\n",
              "\n",
              "      <script>\n",
              "\n",
              "function displayQuickchartButton(domScope) {\n",
              "  let quickchartButtonEl =\n",
              "    domScope.querySelector('#df-3843d1a1-0215-4545-a24b-b904670feed2 button.colab-df-quickchart');\n",
              "  quickchartButtonEl.style.display =\n",
              "    google.colab.kernel.accessAllowed ? 'block' : 'none';\n",
              "}\n",
              "\n",
              "        displayQuickchartButton(document);\n",
              "      </script>\n",
              "      <style>\n",
              "    .colab-df-container {\n",
              "      display:flex;\n",
              "      flex-wrap:wrap;\n",
              "      gap: 12px;\n",
              "    }\n",
              "\n",
              "    .colab-df-convert {\n",
              "      background-color: #E8F0FE;\n",
              "      border: none;\n",
              "      border-radius: 50%;\n",
              "      cursor: pointer;\n",
              "      display: none;\n",
              "      fill: #1967D2;\n",
              "      height: 32px;\n",
              "      padding: 0 0 0 0;\n",
              "      width: 32px;\n",
              "    }\n",
              "\n",
              "    .colab-df-convert:hover {\n",
              "      background-color: #E2EBFA;\n",
              "      box-shadow: 0px 1px 2px rgba(60, 64, 67, 0.3), 0px 1px 3px 1px rgba(60, 64, 67, 0.15);\n",
              "      fill: #174EA6;\n",
              "    }\n",
              "\n",
              "    [theme=dark] .colab-df-convert {\n",
              "      background-color: #3B4455;\n",
              "      fill: #D2E3FC;\n",
              "    }\n",
              "\n",
              "    [theme=dark] .colab-df-convert:hover {\n",
              "      background-color: #434B5C;\n",
              "      box-shadow: 0px 1px 3px 1px rgba(0, 0, 0, 0.15);\n",
              "      filter: drop-shadow(0px 1px 2px rgba(0, 0, 0, 0.3));\n",
              "      fill: #FFFFFF;\n",
              "    }\n",
              "  </style>\n",
              "\n",
              "      <script>\n",
              "        const buttonEl =\n",
              "          document.querySelector('#df-958369c9-68f9-4258-9d90-2ffd3cb220c9 button.colab-df-convert');\n",
              "        buttonEl.style.display =\n",
              "          google.colab.kernel.accessAllowed ? 'block' : 'none';\n",
              "\n",
              "        async function convertToInteractive(key) {\n",
              "          const element = document.querySelector('#df-958369c9-68f9-4258-9d90-2ffd3cb220c9');\n",
              "          const dataTable =\n",
              "            await google.colab.kernel.invokeFunction('convertToInteractive',\n",
              "                                                     [key], {});\n",
              "          if (!dataTable) return;\n",
              "\n",
              "          const docLinkHtml = 'Like what you see? Visit the ' +\n",
              "            '<a target=\"_blank\" href=https://colab.research.google.com/notebooks/data_table.ipynb>data table notebook</a>'\n",
              "            + ' to learn more about interactive tables.';\n",
              "          element.innerHTML = '';\n",
              "          dataTable['output_type'] = 'display_data';\n",
              "          await google.colab.output.renderOutput(dataTable, element);\n",
              "          const docLink = document.createElement('div');\n",
              "          docLink.innerHTML = docLinkHtml;\n",
              "          element.appendChild(docLink);\n",
              "        }\n",
              "      </script>\n",
              "    </div>\n",
              "  </div>\n"
            ]
          },
          "metadata": {},
          "execution_count": 4
        }
      ]
    },
    {
      "cell_type": "code",
      "source": [
        "# Use GPU if available\n",
        "device = 'cuda:0' if torch.cuda.is_available() else 'cpu'\n",
        "device"
      ],
      "metadata": {
        "colab": {
          "base_uri": "https://localhost:8080/",
          "height": 36
        },
        "id": "2xWnG9iMeH0t",
        "outputId": "dfb696fa-6cca-464c-b893-b2bde38cce96"
      },
      "execution_count": 5,
      "outputs": [
        {
          "output_type": "execute_result",
          "data": {
            "text/plain": [
              "'cpu'"
            ],
            "application/vnd.google.colaboratory.intrinsic+json": {
              "type": "string"
            }
          },
          "metadata": {},
          "execution_count": 5
        }
      ]
    },
    {
      "cell_type": "code",
      "source": [
        "data['Date'] = pd.to_datetime(data['Date'])\n",
        "plt.plot(data['Date'], data['Close'])"
      ],
      "metadata": {
        "colab": {
          "base_uri": "https://localhost:8080/",
          "height": 578
        },
        "id": "wqGnYTVieKtU",
        "outputId": "952553c4-c19a-40f5-96e0-a450aea25cc2"
      },
      "execution_count": 6,
      "outputs": [
        {
          "output_type": "stream",
          "name": "stderr",
          "text": [
            "<ipython-input-6-eef3cfff9d19>:1: SettingWithCopyWarning: \n",
            "A value is trying to be set on a copy of a slice from a DataFrame.\n",
            "Try using .loc[row_indexer,col_indexer] = value instead\n",
            "\n",
            "See the caveats in the documentation: https://pandas.pydata.org/pandas-docs/stable/user_guide/indexing.html#returning-a-view-versus-a-copy\n",
            "  data['Date'] = pd.to_datetime(data['Date'])\n"
          ]
        },
        {
          "output_type": "execute_result",
          "data": {
            "text/plain": [
              "[<matplotlib.lines.Line2D at 0x78879348eb60>]"
            ]
          },
          "metadata": {},
          "execution_count": 6
        },
        {
          "output_type": "display_data",
          "data": {
            "text/plain": [
              "<Figure size 640x480 with 1 Axes>"
            ],
            "image/png": "[encoded data removed]"
          },
          "metadata": {}
        }
      ]
    },
    {
      "cell_type": "markdown",
      "source": [
        "# Add extra columns to the data to provide a lookback of a week of closing values"
      ],
      "metadata": {
        "id": "lejgKbwTm-6w"
      }
    },
    {
      "cell_type": "code",
      "source": [
        "from copy import deepcopy as dc\n",
        "\n",
        "def prepare_dataframe_for_lstm(df, n_steps):\n",
        "    df = dc(df)\n",
        "\n",
        "    df.set_index('Date', inplace=True)\n",
        "\n",
        "    for i in range(1, n_steps+1):\n",
        "        df[f'Close(t-{i})'] = df['Close'].shift(i)\n",
        "\n",
        "    df.dropna(inplace=True)\n",
        "\n",
        "    return df\n",
        "\n",
        "lookback = 7\n",
        "shifted_df = prepare_dataframe_for_lstm(data, lookback)\n",
        "shifted_df"
      ],
      "metadata": {
        "id": "l6L7Fqooer-9",
        "colab": {
          "base_uri": "https://localhost:8080/",
          "height": 710
        },
        "outputId": "2ab4dda2-8ae0-4b6c-d347-fffca28fba2e"
      },
      "execution_count": 7,
      "outputs": [
        {
          "output_type": "execute_result",
          "data": {
            "text/plain": [
              "                 Close  Close(t-1)  Close(t-2)  Close(t-3)  Close(t-4)  \\\n",
              "Date                                                                     \n",
              "1997-05-27    0.079167    0.075000    0.069792    0.071354    0.081771   \n",
              "1997-05-28    0.076563    0.079167    0.075000    0.069792    0.071354   \n",
              "1997-05-29    0.075260    0.076563    0.079167    0.075000    0.069792   \n",
              "1997-05-30    0.075000    0.075260    0.076563    0.079167    0.075000   \n",
              "1997-06-02    0.075521    0.075000    0.075260    0.076563    0.079167   \n",
              "...                ...         ...         ...         ...         ...   \n",
              "2023-03-30  102.000000  100.250000   97.239998   98.040001   98.129997   \n",
              "2023-03-31  103.290001  102.000000  100.250000   97.239998   98.040001   \n",
              "2023-04-03  102.410004  103.290001  102.000000  100.250000   97.239998   \n",
              "2023-04-04  103.949997  102.410004  103.290001  102.000000  100.250000   \n",
              "2023-04-05  101.099998  103.949997  102.410004  103.290001  102.000000   \n",
              "\n",
              "            Close(t-5)  Close(t-6)  Close(t-7)  \n",
              "Date                                            \n",
              "1997-05-27    0.085417    0.086458    0.097917  \n",
              "1997-05-28    0.081771    0.085417    0.086458  \n",
              "1997-05-29    0.071354    0.081771    0.085417  \n",
              "1997-05-30    0.069792    0.071354    0.081771  \n",
              "1997-06-02    0.075000    0.069792    0.071354  \n",
              "...                ...         ...         ...  \n",
              "2023-03-30   98.709999   98.699997  100.610001  \n",
              "2023-03-31   98.129997   98.709999   98.699997  \n",
              "2023-04-03   98.040001   98.129997   98.709999  \n",
              "2023-04-04   97.239998   98.040001   98.129997  \n",
              "2023-04-05  100.250000   97.239998   98.040001  \n",
              "\n",
              "[6509 rows x 8 columns]"
            ],
            "text/html": [
              "\n",
              "\n",
              "  <div id=\"df-0eda8bf6-c703-489b-b135-03275601a9d2\">\n",
              "    <div class=\"colab-df-container\">\n",
              "      <div>\n",
              "<style scoped>\n",
              "    .dataframe tbody tr th:only-of-type {\n",
              "        vertical-align: middle;\n",
              "    }\n",
              "\n",
              "    .dataframe tbody tr th {\n",
              "        vertical-align: top;\n",
              "    }\n",
              "\n",
              "    .dataframe thead th {\n",
              "        text-align: right;\n",
              "    }\n",
              "</style>\n",
              "<table border=\"1\" class=\"dataframe\">\n",
              "  <thead>\n",
              "    <tr style=\"text-align: right;\">\n",
              "      <th></th>\n",
              "      <th>Close</th>\n",
              "      <th>Close(t-1)</th>\n",
              "      <th>Close(t-2)</th>\n",
              "      <th>Close(t-3)</th>\n",
              "      <th>Close(t-4)</th>\n",
              "      <th>Close(t-5)</th>\n",
              "      <th>Close(t-6)</th>\n",
              "      <th>Close(t-7)</th>\n",
              "    </tr>\n",
              "    <tr>\n",
              "      <th>Date</th>\n",
              "      <th></th>\n",
              "      <th></th>\n",
              "      <th></th>\n",
              "      <th></th>\n",
              "      <th></th>\n",
              "      <th></th>\n",
              "      <th></th>\n",
              "      <th></th>\n",
              "    </tr>\n",
              "  </thead>\n",
              "  <tbody>\n",
              "    <tr>\n",
              "      <th>1997-05-27</th>\n",
              "      <td>0.079167</td>\n",
              "      <td>0.075000</td>\n",
              "      <td>0.069792</td>\n",
              "      <td>0.071354</td>\n",
              "      <td>0.081771</td>\n",
              "      <td>0.085417</td>\n",
              "      <td>0.086458</td>\n",
              "      <td>0.097917</td>\n",
              "    </tr>\n",
              "    <tr>\n",
              "      <th>1997-05-28</th>\n",
              "      <td>0.076563</td>\n",
              "      <td>0.079167</td>\n",
              "      <td>0.075000</td>\n",
              "      <td>0.069792</td>\n",
              "      <td>0.071354</td>\n",
              "      <td>0.081771</td>\n",
              "      <td>0.085417</td>\n",
              "      <td>0.086458</td>\n",
              "    </tr>\n",
              "    <tr>\n",
              "      <th>1997-05-29</th>\n",
              "      <td>0.075260</td>\n",
              "      <td>0.076563</td>\n",
              "      <td>0.079167</td>\n",
              "      <td>0.075000</td>\n",
              "      <td>0.069792</td>\n",
              "      <td>0.071354</td>\n",
              "      <td>0.081771</td>\n",
              "      <td>0.085417</td>\n",
              "    </tr>\n",
              "    <tr>\n",
              "      <th>1997-05-30</th>\n",
              "      <td>0.075000</td>\n",
              "      <td>0.075260</td>\n",
              "      <td>0.076563</td>\n",
              "      <td>0.079167</td>\n",
              "      <td>0.075000</td>\n",
              "      <td>0.069792</td>\n",
              "      <td>0.071354</td>\n",
              "      <td>0.081771</td>\n",
              "    </tr>\n",
              "    <tr>\n",
              "      <th>1997-06-02</th>\n",
              "      <td>0.075521</td>\n",
              "      <td>0.075000</td>\n",
              "      <td>0.075260</td>\n",
              "      <td>0.076563</td>\n",
              "      <td>0.079167</td>\n",
              "      <td>0.075000</td>\n",
              "      <td>0.069792</td>\n",
              "      <td>0.071354</td>\n",
              "    </tr>\n",
              "    <tr>\n",
              "      <th>...</th>\n",
              "      <td>...</td>\n",
              "      <td>...</td>\n",
              "      <td>...</td>\n",
              "      <td>...</td>\n",
              "      <td>...</td>\n",
              "      <td>...</td>\n",
              "      <td>...</td>\n",
              "      <td>...</td>\n",
              "    </tr>\n",
              "    <tr>\n",
              "      <th>2023-03-30</th>\n",
              "      <td>102.000000</td>\n",
              "      <td>100.250000</td>\n",
              "      <td>97.239998</td>\n",
              "      <td>98.040001</td>\n",
              "      <td>98.129997</td>\n",
              "      <td>98.709999</td>\n",
              "      <td>98.699997</td>\n",
              "      <td>100.610001</td>\n",
              "    </tr>\n",
              "    <tr>\n",
              "      <th>2023-03-31</th>\n",
              "      <td>103.290001</td>\n",
              "      <td>102.000000</td>\n",
              "      <td>100.250000</td>\n",
              "      <td>97.239998</td>\n",
              "      <td>98.040001</td>\n",
              "      <td>98.129997</td>\n",
              "      <td>98.709999</td>\n",
              "      <td>98.699997</td>\n",
              "    </tr>\n",
              "    <tr>\n",
              "      <th>2023-04-03</th>\n",
              "      <td>102.410004</td>\n",
              "      <td>103.290001</td>\n",
              "      <td>102.000000</td>\n",
              "      <td>100.250000</td>\n",
              "      <td>97.239998</td>\n",
              "      <td>98.040001</td>\n",
              "      <td>98.129997</td>\n",
              "      <td>98.709999</td>\n",
              "    </tr>\n",
              "    <tr>\n",
              "      <th>2023-04-04</th>\n",
              "      <td>103.949997</td>\n",
              "      <td>102.410004</td>\n",
              "      <td>103.290001</td>\n",
              "      <td>102.000000</td>\n",
              "      <td>100.250000</td>\n",
              "      <td>97.239998</td>\n",
              "      <td>98.040001</td>\n",
              "      <td>98.129997</td>\n",
              "    </tr>\n",
              "    <tr>\n",
              "      <th>2023-04-05</th>\n",
              "      <td>101.099998</td>\n",
              "      <td>103.949997</td>\n",
              "      <td>102.410004</td>\n",
              "      <td>103.290001</td>\n",
              "      <td>102.000000</td>\n",
              "      <td>100.250000</td>\n",
              "      <td>97.239998</td>\n",
              "      <td>98.040001</td>\n",
              "    </tr>\n",
              "  </tbody>\n",
              "</table>\n",
              "<p>6509 rows × 8 columns</p>\n",
              "</div>\n",
              "      <button class=\"colab-df-convert\" onclick=\"convertToInteractive('df-0eda8bf6-c703-489b-b135-03275601a9d2')\"\n",
              "              title=\"Convert this dataframe to an interactive table.\"\n",
              "              style=\"display:none;\">\n",
              "\n",
              "  <svg xmlns=\"http://www.w3.org/2000/svg\" height=\"24px\"viewBox=\"0 0 24 24\"\n",
              "       width=\"24px\">\n",
              "    <path d=\"M0 0h24v24H0V0z\" fill=\"none\"/>\n",
              "    <path d=\"M18.56 5.44l.94 2.06.94-2.06 2.06-.94-2.06-.94-.94-2.06-.94 2.06-2.06.94zm-11 1L8.5 8.5l.94-2.06 2.06-.94-2.06-.94L8.5 2.5l-.94 2.06-2.06.94zm10 10l.94 2.06.94-2.06 2.06-.94-2.06-.94-.94-2.06-.94 2.06-2.06.94z\"/><path d=\"M17.41 7.96l-1.37-1.37c-.4-.4-.92-.59-1.43-.59-.52 0-1.04.2-1.43.59L10.3 9.45l-7.72 7.72c-.78.78-.78 2.05 0 2.83L4 21.41c.39.39.9.59 1.41.59.51 0 1.02-.2 1.41-.59l7.78-7.78 2.81-2.81c.8-.78.8-2.07 0-2.86zM5.41 20L4 18.59l7.72-7.72 1.47 1.35L5.41 20z\"/>\n",
              "  </svg>\n",
              "      </button>\n",
              "\n",
              "\n",
              "\n",
              "    <div id=\"df-0ce78282-f5f8-4304-a7a9-83265f57d742\">\n",
              "      <button class=\"colab-df-quickchart\" onclick=\"quickchart('df-0ce78282-f5f8-4304-a7a9-83265f57d742')\"\n",
              "              title=\"Suggest charts.\"\n",
              "              style=\"display:none;\">\n",
              "\n",
              "<svg xmlns=\"http://www.w3.org/2000/svg\" height=\"24px\"viewBox=\"0 0 24 24\"\n",
              "     width=\"24px\">\n",
              "    <g>\n",
              "        <path d=\"M19 3H5c-1.1 0-2 .9-2 2v14c0 1.1.9 2 2 2h14c1.1 0 2-.9 2-2V5c0-1.1-.9-2-2-2zM9 17H7v-7h2v7zm4 0h-2V7h2v10zm4 0h-2v-4h2v4z\"/>\n",
              "    </g>\n",
              "</svg>\n",
              "      </button>\n",
              "    </div>\n",
              "\n",
              "<style>\n",
              "  .colab-df-quickchart {\n",
              "    background-color: #E8F0FE;\n",
              "    border: none;\n",
              "    border-radius: 50%;\n",
              "    cursor: pointer;\n",
              "    display: none;\n",
              "    fill: #1967D2;\n",
              "    height: 32px;\n",
              "    padding: 0 0 0 0;\n",
              "    width: 32px;\n",
              "  }\n",
              "\n",
              "  .colab-df-quickchart:hover {\n",
              "    background-color: #E2EBFA;\n",
              "    box-shadow: 0px 1px 2px rgba(60, 64, 67, 0.3), 0px 1px 3px 1px rgba(60, 64, 67, 0.15);\n",
              "    fill: #174EA6;\n",
              "  }\n",
              "\n",
              "  [theme=dark] .colab-df-quickchart {\n",
              "    background-color: #3B4455;\n",
              "    fill: #D2E3FC;\n",
              "  }\n",
              "\n",
              "  [theme=dark] .colab-df-quickchart:hover {\n",
              "    background-color: #434B5C;\n",
              "    box-shadow: 0px 1px 3px 1px rgba(0, 0, 0, 0.15);\n",
              "    filter: drop-shadow(0px 1px 2px rgba(0, 0, 0, 0.3));\n",
              "    fill: #FFFFFF;\n",
              "  }\n",
              "</style>\n",
              "\n",
              "    <script>\n",
              "      async function quickchart(key) {\n",
              "        const containerElement = document.querySelector('#' + key);\n",
              "        const charts = await google.colab.kernel.invokeFunction(\n",
              "            'suggestCharts', [key], {});\n",
              "      }\n",
              "    </script>\n",
              "\n",
              "      <script>\n",
              "\n",
              "function displayQuickchartButton(domScope) {\n",
              "  let quickchartButtonEl =\n",
              "    domScope.querySelector('#df-0ce78282-f5f8-4304-a7a9-83265f57d742 button.colab-df-quickchart');\n",
              "  quickchartButtonEl.style.display =\n",
              "    google.colab.kernel.accessAllowed ? 'block' : 'none';\n",
              "}\n",
              "\n",
              "        displayQuickchartButton(document);\n",
              "      </script>\n",
              "      <style>\n",
              "    .colab-df-container {\n",
              "      display:flex;\n",
              "      flex-wrap:wrap;\n",
              "      gap: 12px;\n",
              "    }\n",
              "\n",
              "    .colab-df-convert {\n",
              "      background-color: #E8F0FE;\n",
              "      border: none;\n",
              "      border-radius: 50%;\n",
              "      cursor: pointer;\n",
              "      display: none;\n",
              "      fill: #1967D2;\n",
              "      height: 32px;\n",
              "      padding: 0 0 0 0;\n",
              "      width: 32px;\n",
              "    }\n",
              "\n",
              "    .colab-df-convert:hover {\n",
              "      background-color: #E2EBFA;\n",
              "      box-shadow: 0px 1px 2px rgba(60, 64, 67, 0.3), 0px 1px 3px 1px rgba(60, 64, 67, 0.15);\n",
              "      fill: #174EA6;\n",
              "    }\n",
              "\n",
              "    [theme=dark] .colab-df-convert {\n",
              "      background-color: #3B4455;\n",
              "      fill: #D2E3FC;\n",
              "    }\n",
              "\n",
              "    [theme=dark] .colab-df-convert:hover {\n",
              "      background-color: #434B5C;\n",
              "      box-shadow: 0px 1px 3px 1px rgba(0, 0, 0, 0.15);\n",
              "      filter: drop-shadow(0px 1px 2px rgba(0, 0, 0, 0.3));\n",
              "      fill: #FFFFFF;\n",
              "    }\n",
              "  </style>\n",
              "\n",
              "      <script>\n",
              "        const buttonEl =\n",
              "          document.querySelector('#df-0eda8bf6-c703-489b-b135-03275601a9d2 button.colab-df-convert');\n",
              "        buttonEl.style.display =\n",
              "          google.colab.kernel.accessAllowed ? 'block' : 'none';\n",
              "\n",
              "        async function convertToInteractive(key) {\n",
              "          const element = document.querySelector('#df-0eda8bf6-c703-489b-b135-03275601a9d2');\n",
              "          const dataTable =\n",
              "            await google.colab.kernel.invokeFunction('convertToInteractive',\n",
              "                                                     [key], {});\n",
              "          if (!dataTable) return;\n",
              "\n",
              "          const docLinkHtml = 'Like what you see? Visit the ' +\n",
              "            '<a target=\"_blank\" href=https://colab.research.google.com/notebooks/data_table.ipynb>data table notebook</a>'\n",
              "            + ' to learn more about interactive tables.';\n",
              "          element.innerHTML = '';\n",
              "          dataTable['output_type'] = 'display_data';\n",
              "          await google.colab.output.renderOutput(dataTable, element);\n",
              "          const docLink = document.createElement('div');\n",
              "          docLink.innerHTML = docLinkHtml;\n",
              "          element.appendChild(docLink);\n",
              "        }\n",
              "      </script>\n",
              "    </div>\n",
              "  </div>\n"
            ]
          },
          "metadata": {},
          "execution_count": 7
        }
      ]
    },
    {
      "cell_type": "markdown",
      "source": [
        "# Converting pandas df to numpt array of size (6509 x 8)"
      ],
      "metadata": {
        "id": "ZNeYvVdwnfNa"
      }
    },
    {
      "cell_type": "code",
      "source": [
        "shifted_df_as_np = shifted_df.to_numpy()\n",
        "\n",
        "shifted_df_as_np\n",
        "shifted_df_as_np.shape"
      ],
      "metadata": {
        "colab": {
          "base_uri": "https://localhost:8080/"
        },
        "id": "4XM6jvfKnck1",
        "outputId": "1926ef91-4012-4dab-bab0-02752720a53e"
      },
      "execution_count": 8,
      "outputs": [
        {
          "output_type": "execute_result",
          "data": {
            "text/plain": [
              "(6509, 8)"
            ]
          },
          "metadata": {},
          "execution_count": 8
        }
      ]
    },
    {
      "cell_type": "markdown",
      "source": [
        "# Make features go from (-1 to 1)"
      ],
      "metadata": {
        "id": "Gu9kQbJXo6kC"
      }
    },
    {
      "cell_type": "code",
      "source": [
        "from sklearn.preprocessing import MinMaxScaler\n",
        "\n",
        "scaler = MinMaxScaler(feature_range=(-1, 1))\n",
        "shifted_df_as_np = scaler.fit_transform(shifted_df_as_np)\n",
        "\n",
        "shifted_df_as_np"
      ],
      "metadata": {
        "colab": {
          "base_uri": "https://localhost:8080/"
        },
        "id": "a0rk2HhJpCNZ",
        "outputId": "d4e18982-b3eb-43de-9feb-86850ef01ca0"
      },
      "execution_count": 9,
      "outputs": [
        {
          "output_type": "execute_result",
          "data": {
            "text/plain": [
              "array([[-0.99991063, -0.99995531, -1.        , ..., -0.99983244,\n",
              "        -0.99982128, -0.99969839],\n",
              "       [-0.99993855, -0.99991063, -0.99994415, ..., -0.99987154,\n",
              "        -0.99983244, -0.99982128],\n",
              "       [-0.99995253, -0.99993855, -0.99989946, ..., -0.99998325,\n",
              "        -0.99987154, -0.99983244],\n",
              "       ...,\n",
              "       [ 0.09747299,  0.10690997,  0.09308121, ...,  0.0506149 ,\n",
              "         0.05158   ,  0.05779984],\n",
              "       [ 0.11398769,  0.09747299,  0.10691495, ...,  0.04203581,\n",
              "         0.0506149 ,  0.05158   ],\n",
              "       [ 0.08342464,  0.11398769,  0.09747802, ...,  0.07431453,\n",
              "         0.04203581,  0.0506149 ]])"
            ]
          },
          "metadata": {},
          "execution_count": 9
        }
      ]
    },
    {
      "cell_type": "markdown",
      "source": [
        "# X is the inpute features\n",
        "# Y is the output label"
      ],
      "metadata": {
        "id": "MUj4QsGqpQwI"
      }
    },
    {
      "cell_type": "code",
      "source": [
        "X = shifted_df_as_np[:, 1:]\n",
        "y = shifted_df_as_np[:, 0]\n",
        "\n",
        "X.shape, y.shape"
      ],
      "metadata": {
        "colab": {
          "base_uri": "https://localhost:8080/"
        },
        "id": "vmQfsnY6pKeF",
        "outputId": "8daf5476-1922-4d30-d199-d8042482d59d"
      },
      "execution_count": 10,
      "outputs": [
        {
          "output_type": "execute_result",
          "data": {
            "text/plain": [
              "((6509, 7), (6509,))"
            ]
          },
          "metadata": {},
          "execution_count": 10
        }
      ]
    },
    {
      "cell_type": "markdown",
      "source": [
        "# For a LSTM the data has to be fed , oldest first. so we have to flip. t-7 first and so on ..."
      ],
      "metadata": {
        "id": "hFTkmywIsldz"
      }
    },
    {
      "cell_type": "code",
      "source": [
        "X = dc(np.flip(X, axis=1))\n",
        "X"
      ],
      "metadata": {
        "colab": {
          "base_uri": "https://localhost:8080/"
        },
        "id": "RpW9DebWs_ek",
        "outputId": "7c548d93-fd29-445f-8903-6d04d96f92e8"
      },
      "execution_count": 11,
      "outputs": [
        {
          "output_type": "execute_result",
          "data": {
            "text/plain": [
              "array([[-0.99969839, -0.99982128, -0.99983244, ..., -0.99998325,\n",
              "        -1.        , -0.99995531],\n",
              "       [-0.99982128, -0.99983244, -0.99987154, ..., -1.        ,\n",
              "        -0.99994415, -0.99991063],\n",
              "       [-0.99983244, -0.99987154, -0.99998325, ..., -0.99994415,\n",
              "        -0.99989946, -0.99993855],\n",
              "       ...,\n",
              "       [ 0.05779984,  0.05158   ,  0.0506149 , ...,  0.07431453,\n",
              "         0.09308121,  0.10690997],\n",
              "       [ 0.05158   ,  0.0506149 ,  0.04203581, ...,  0.09308121,\n",
              "         0.10691495,  0.09747299],\n",
              "       [ 0.0506149 ,  0.04203581,  0.07431453, ...,  0.10691495,\n",
              "         0.09747802,  0.11398769]])"
            ]
          },
          "metadata": {},
          "execution_count": 11
        }
      ]
    },
    {
      "cell_type": "markdown",
      "source": [
        "# Split data into train(95%) and test(5%)"
      ],
      "metadata": {
        "id": "xsj9QFD3uP4K"
      }
    },
    {
      "cell_type": "code",
      "source": [
        "split_index = int(len(X) * 0.95)\n",
        "\n",
        "split_index"
      ],
      "metadata": {
        "colab": {
          "base_uri": "https://localhost:8080/"
        },
        "id": "L-iI9qfktDwD",
        "outputId": "a0c281e2-91ec-48ce-cee0-1895140489f8"
      },
      "execution_count": 12,
      "outputs": [
        {
          "output_type": "execute_result",
          "data": {
            "text/plain": [
              "6183"
            ]
          },
          "metadata": {},
          "execution_count": 12
        }
      ]
    },
    {
      "cell_type": "code",
      "source": [
        "X_train = X[:split_index]\n",
        "X_test = X[split_index:]\n",
        "\n",
        "y_train = y[:split_index]\n",
        "y_test = y[split_index:]\n",
        "\n",
        "X_train.shape, X_test.shape, y_train.shape, y_test.shape"
      ],
      "metadata": {
        "colab": {
          "base_uri": "https://localhost:8080/"
        },
        "id": "lycBW8YJuXrG",
        "outputId": "526cdba9-a516-4ffb-8ab9-c5e88272fa07"
      },
      "execution_count": 13,
      "outputs": [
        {
          "output_type": "execute_result",
          "data": {
            "text/plain": [
              "((6183, 7), (326, 7), (6183,), (326,))"
            ]
          },
          "metadata": {},
          "execution_count": 13
        }
      ]
    },
    {
      "cell_type": "markdown",
      "source": [
        "# LSTM needs an extra dimension at the end"
      ],
      "metadata": {
        "id": "KR6Lc6pKuirz"
      }
    },
    {
      "cell_type": "code",
      "source": [
        "X_train = X_train.reshape((-1, lookback, 1))\n",
        "X_test = X_test.reshape((-1, lookback, 1))\n",
        "\n",
        "y_train = y_train.reshape((-1, 1))\n",
        "y_test = y_test.reshape((-1, 1))\n",
        "\n",
        "X_train.shape, X_test.shape, y_train.shape, y_test.shape"
      ],
      "metadata": {
        "colab": {
          "base_uri": "https://localhost:8080/"
        },
        "id": "CImoaTKkujOB",
        "outputId": "c24310e3-bc48-428b-c5f0-dd297b225fa1"
      },
      "execution_count": 14,
      "outputs": [
        {
          "output_type": "execute_result",
          "data": {
            "text/plain": [
              "((6183, 7, 1), (326, 7, 1), (6183, 1), (326, 1))"
            ]
          },
          "metadata": {},
          "execution_count": 14
        }
      ]
    },
    {
      "cell_type": "markdown",
      "source": [
        "# Create Tensors"
      ],
      "metadata": {
        "id": "2gte1KCIyKdv"
      }
    },
    {
      "cell_type": "code",
      "source": [
        "X_train = torch.tensor(X_train).float()\n",
        "y_train = torch.tensor(y_train).float()\n",
        "X_test = torch.tensor(X_test).float()\n",
        "y_test = torch.tensor(y_test).float()\n",
        "\n",
        "X_train.shape, X_test.shape, y_train.shape, y_test.shape"
      ],
      "metadata": {
        "colab": {
          "base_uri": "https://localhost:8080/"
        },
        "id": "K-M2MMYPyNT0",
        "outputId": "b6748e3e-f285-4614-81f2-a6b383bb640b"
      },
      "execution_count": 15,
      "outputs": [
        {
          "output_type": "execute_result",
          "data": {
            "text/plain": [
              "(torch.Size([6183, 7, 1]),\n",
              " torch.Size([326, 7, 1]),\n",
              " torch.Size([6183, 1]),\n",
              " torch.Size([326, 1]))"
            ]
          },
          "metadata": {},
          "execution_count": 15
        }
      ]
    },
    {
      "cell_type": "markdown",
      "source": [
        "# Convert raw tensors to Datasets"
      ],
      "metadata": {
        "id": "LtdAslPRyvbe"
      }
    },
    {
      "cell_type": "code",
      "source": [
        "from torch.utils.data import Dataset\n",
        "\n",
        "class TimeSeriesDataset(Dataset):\n",
        "    def __init__(self, X, y):\n",
        "        self.X = X\n",
        "        self.y = y\n",
        "\n",
        "    def __len__(self):\n",
        "        return len(self.X)\n",
        "\n",
        "    def __getitem__(self, i):\n",
        "        return self.X[i], self.y[i]\n",
        "\n",
        "train_dataset = TimeSeriesDataset(X_train, y_train)\n",
        "test_dataset = TimeSeriesDataset(X_test, y_test)"
      ],
      "metadata": {
        "id": "3jm68TBWyRei"
      },
      "execution_count": 16,
      "outputs": []
    },
    {
      "cell_type": "markdown",
      "source": [
        "# Convert Dataset to DataLoader"
      ],
      "metadata": {
        "id": "K5hUUJARzKJ9"
      }
    },
    {
      "cell_type": "code",
      "source": [
        "from torch.utils.data import DataLoader\n",
        "\n",
        "batch_size = 16\n",
        "\n",
        "train_loader = DataLoader(train_dataset, batch_size=batch_size, shuffle=True)\n",
        "test_loader = DataLoader(test_dataset, batch_size=batch_size, shuffle=False)"
      ],
      "metadata": {
        "id": "zBnVRFaVzOLl"
      },
      "execution_count": 17,
      "outputs": []
    },
    {
      "cell_type": "code",
      "source": [
        "# put data on cpu or gpu\n",
        "for _, batch in enumerate(train_loader):\n",
        "    x_batch, y_batch = batch[0].to(device), batch[1].to(device)\n",
        "    print(x_batch.shape, y_batch.shape)\n",
        "    break"
      ],
      "metadata": {
        "colab": {
          "base_uri": "https://localhost:8080/"
        },
        "id": "6pUfHj6z13rZ",
        "outputId": "78e734f9-8bcd-4643-8ebc-26607e8575c0"
      },
      "execution_count": 18,
      "outputs": [
        {
          "output_type": "stream",
          "name": "stdout",
          "text": [
            "torch.Size([16, 7, 1]) torch.Size([16, 1])\n"
          ]
        }
      ]
    },
    {
      "cell_type": "markdown",
      "source": [
        "# LSTM"
      ],
      "metadata": {
        "id": "3_pDtyvB1_mp"
      }
    },
    {
      "cell_type": "markdown",
      "source": [
        "1. In time series forecasting, each time step typically corresponds to a specific timestamp, and the input data may contain multiple features or variables. For example, if you are using historical data for univariate time series forecasting (only one feature, like 'Close' prices), then input_size will be 1\n",
        "\n",
        "2. The value of 4 in the calculation comes from the four gates present in the LSTM cel\n",
        "\n",
        "3. num_stacked_layers (also known as the number of stacked LSTM layers) refers to the depth of the LSTM architecture. In a stacked LSTM model, multiple LSTM layers are stacked on top of each other. Each LSTM layer takes the output of the previous layer as input. This stacking of layers helps the model to learn hierarchical representations of the data, capturing both low-level and high-level patterns. The value of num_stacked_layers specifies how many LSTM layers are stacked on top of each other.\n",
        "\n",
        "4. h0 and c0 in the context of an LSTM (Long Short-Term Memory) can be thought of as representations of long-term and short-term memory, respectively"
      ],
      "metadata": {
        "id": "6tbppuHB4ouW"
      }
    },
    {
      "cell_type": "code",
      "source": [
        "class LSTM(nn.Module):\n",
        "    def __init__(self, input_size, hidden_size, num_stacked_layers):\n",
        "        super().__init__()\n",
        "        self.hidden_size = hidden_size\n",
        "        self.num_stacked_layers = num_stacked_layers\n",
        "\n",
        "        self.lstm = nn.LSTM(input_size, hidden_size, num_stacked_layers,\n",
        "                            batch_first=True)\n",
        "\n",
        "        self.fc = nn.Linear(hidden_size, 1)\n",
        "\n",
        "    def forward(self, x):\n",
        "        batch_size = x.size(0)\n",
        "        h0 = torch.zeros(self.num_stacked_layers, batch_size, self.hidden_size).to(device)\n",
        "        c0 = torch.zeros(self.num_stacked_layers, batch_size, self.hidden_size).to(device)\n",
        "\n",
        "        out, _ = self.lstm(x, (h0, c0))\n",
        "        out = self.fc(out[:, -1, :])\n",
        "        return out\n",
        "\n",
        "model = LSTM(1, 4, 1)\n",
        "model.to(device)\n",
        "model"
      ],
      "metadata": {
        "colab": {
          "base_uri": "https://localhost:8080/"
        },
        "id": "FublX5NL2A9_",
        "outputId": "e1753806-bbc4-4dc5-d869-6fa200303cad"
      },
      "execution_count": 19,
      "outputs": [
        {
          "output_type": "execute_result",
          "data": {
            "text/plain": [
              "LSTM(\n",
              "  (lstm): LSTM(1, 4, batch_first=True)\n",
              "  (fc): Linear(in_features=4, out_features=1, bias=True)\n",
              ")"
            ]
          },
          "metadata": {},
          "execution_count": 19
        }
      ]
    },
    {
      "cell_type": "markdown",
      "source": [
        "# Training"
      ],
      "metadata": {
        "id": "VGCQ5kvm7PTW"
      }
    },
    {
      "cell_type": "code",
      "source": [
        "def train_one_epoch():\n",
        "    model.train(True)\n",
        "    print(f'Epoch: {epoch + 1}')\n",
        "    running_loss = 0.0\n",
        "\n",
        "    for batch_index, batch in enumerate(train_loader):\n",
        "        x_batch, y_batch = batch[0].to(device), batch[1].to(device)\n",
        "\n",
        "        # Forward Pass\n",
        "        output = model(x_batch)\n",
        "\n",
        "        # Calculate loss\n",
        "        loss = loss_function(output, y_batch)\n",
        "        running_loss += loss.item()\n",
        "\n",
        "        # Backward pass\n",
        "        optimizer.zero_grad()\n",
        "        loss.backward()\n",
        "\n",
        "        # Update params step\n",
        "        optimizer.step()\n",
        "\n",
        "        if batch_index % 100 == 99:  # print every 100 batches\n",
        "            avg_loss_across_batches = running_loss / 100\n",
        "            print('Batch {0}, Loss: {1:.3f}'.format(batch_index+1,\n",
        "                                                    avg_loss_across_batches))\n",
        "            running_loss = 0.0\n",
        "    print()"
      ],
      "metadata": {
        "id": "phsy7Gr74pfX"
      },
      "execution_count": 20,
      "outputs": []
    },
    {
      "cell_type": "markdown",
      "source": [
        "# what is this ???"
      ],
      "metadata": {
        "id": "JR0qBPnV7tDN"
      }
    },
    {
      "cell_type": "code",
      "source": [
        "def validate_one_epoch():\n",
        "    model.train(False)\n",
        "    running_loss = 0.0\n",
        "\n",
        "    for batch_index, batch in enumerate(test_loader):\n",
        "        x_batch, y_batch = batch[0].to(device), batch[1].to(device)\n",
        "\n",
        "        with torch.no_grad():\n",
        "            output = model(x_batch)\n",
        "            loss = loss_function(output, y_batch)\n",
        "            running_loss += loss.item()\n",
        "\n",
        "    avg_loss_across_batches = running_loss / len(test_loader)\n",
        "\n",
        "    print('Val Loss: {0:.3f}'.format(avg_loss_across_batches))\n",
        "    print('***************************************************')\n",
        "    print()"
      ],
      "metadata": {
        "id": "jBhfryFo7XEs"
      },
      "execution_count": 21,
      "outputs": []
    },
    {
      "cell_type": "markdown",
      "source": [
        "# Run training loop"
      ],
      "metadata": {
        "id": "ZNCcnO4d7xl_"
      }
    },
    {
      "cell_type": "code",
      "source": [
        "learning_rate = 0.001\n",
        "num_epochs = 10\n",
        "loss_function = nn.MSELoss()\n",
        "optimizer = torch.optim.Adam(model.parameters(), lr=learning_rate)\n",
        "\n",
        "for epoch in range(num_epochs):\n",
        "    train_one_epoch()\n",
        "    #validate_one_epoch()"
      ],
      "metadata": {
        "colab": {
          "base_uri": "https://localhost:8080/"
        },
        "id": "43AX1UbU7zFu",
        "outputId": "04d1b200-f8a1-40b5-a151-3f56d7abfde7"
      },
      "execution_count": 22,
      "outputs": [
        {
          "output_type": "stream",
          "name": "stdout",
          "text": [
            "Epoch: 1\n",
            "Batch 100, Loss: 0.335\n",
            "Batch 200, Loss: 0.166\n",
            "Batch 300, Loss: 0.063\n",
            "\n",
            "Epoch: 2\n",
            "Batch 100, Loss: 0.009\n",
            "Batch 200, Loss: 0.005\n",
            "Batch 300, Loss: 0.003\n",
            "\n",
            "Epoch: 3\n",
            "Batch 100, Loss: 0.001\n",
            "Batch 200, Loss: 0.001\n",
            "Batch 300, Loss: 0.000\n",
            "\n",
            "Epoch: 4\n",
            "Batch 100, Loss: 0.000\n",
            "Batch 200, Loss: 0.000\n",
            "Batch 300, Loss: 0.000\n",
            "\n",
            "Epoch: 5\n",
            "Batch 100, Loss: 0.000\n",
            "Batch 200, Loss: 0.000\n",
            "Batch 300, Loss: 0.000\n",
            "\n",
            "Epoch: 6\n",
            "Batch 100, Loss: 0.000\n",
            "Batch 200, Loss: 0.000\n",
            "Batch 300, Loss: 0.000\n",
            "\n",
            "Epoch: 7\n",
            "Batch 100, Loss: 0.000\n",
            "Batch 200, Loss: 0.000\n",
            "Batch 300, Loss: 0.000\n",
            "\n",
            "Epoch: 8\n",
            "Batch 100, Loss: 0.000\n",
            "Batch 200, Loss: 0.000\n",
            "Batch 300, Loss: 0.000\n",
            "\n",
            "Epoch: 9\n",
            "Batch 100, Loss: 0.000\n",
            "Batch 200, Loss: 0.000\n",
            "Batch 300, Loss: 0.000\n",
            "\n",
            "Epoch: 10\n",
            "Batch 100, Loss: 0.000\n",
            "Batch 200, Loss: 0.000\n",
            "Batch 300, Loss: 0.000\n",
            "\n"
          ]
        }
      ]
    },
    {
      "cell_type": "code",
      "source": [
        "with torch.no_grad():\n",
        "    predicted = model(X_train.to(device)).to('cpu').numpy()\n",
        "\n",
        "plt.plot(y_train, label='Actual Close')\n",
        "plt.plot(predicted, label='Predicted Close')\n",
        "plt.xlabel('Day')\n",
        "plt.ylabel('Close')\n",
        "plt.legend()\n",
        "plt.show()\n"
      ],
      "metadata": {
        "colab": {
          "base_uri": "https://localhost:8080/",
          "height": 449
        },
        "id": "pBb4rKQr732h",
        "outputId": "3eba613d-d667-4f2c-8b34-d32c72d81ac0"
      },
      "execution_count": 23,
      "outputs": [
        {
          "output_type": "display_data",
          "data": {
            "text/plain": [
              "<Figure size 640x480 with 1 Axes>"
            ],
            "image/png": "[encoded data removed]"
          },
          "metadata": {}
        }
      ]
    },
    {
      "cell_type": "markdown",
      "source": [
        "# Scaling back the predictions from (-1,1) to original price values"
      ],
      "metadata": {
        "id": "looH6g1AC0j2"
      }
    },
    {
      "cell_type": "code",
      "source": [
        "train_predictions = predicted.flatten()\n",
        "\n",
        "dummies = np.zeros((X_train.shape[0], lookback+1))\n",
        "dummies[:, 0] = train_predictions\n",
        "dummies = scaler.inverse_transform(dummies)\n",
        "\n",
        "train_predictions = dc(dummies[:, 0])\n",
        "train_predictions"
      ],
      "metadata": {
        "id": "GSDSPHymC7cD",
        "colab": {
          "base_uri": "https://localhost:8080/"
        },
        "outputId": "c2e3cc6c-c165-4a6a-9b48-f7cecb658462"
      },
      "execution_count": 24,
      "outputs": [
        {
          "output_type": "execute_result",
          "data": {
            "text/plain": [
              "array([  0.42524672,   0.42366821,   0.42290119, ..., 170.30778914,\n",
              "       170.128762  , 170.40920265])"
            ]
          },
          "metadata": {},
          "execution_count": 24
        }
      ]
    },
    {
      "cell_type": "markdown",
      "source": [
        "# Scaling back training samples from (-1, 1) to original price values"
      ],
      "metadata": {
        "id": "l5wJmPm81zRO"
      }
    },
    {
      "cell_type": "code",
      "source": [
        "dummies = np.zeros((X_train.shape[0], lookback+1))\n",
        "dummies[:, 0] = y_train.flatten()\n",
        "dummies = scaler.inverse_transform(dummies)\n",
        "\n",
        "new_y_train = dc(dummies[:, 0])\n",
        "new_y_train"
      ],
      "metadata": {
        "colab": {
          "base_uri": "https://localhost:8080/"
        },
        "id": "BZezbms716Nz",
        "outputId": "76b05138-ba82-4aac-9429-d7f6c0742519"
      },
      "execution_count": 25,
      "outputs": [
        {
          "output_type": "execute_result",
          "data": {
            "text/plain": [
              "array([7.91646265e-02, 7.65634249e-02, 7.52572660e-02, ...,\n",
              "       1.69091505e+02, 1.73315001e+02, 1.68871003e+02])"
            ]
          },
          "metadata": {},
          "execution_count": 25
        }
      ]
    },
    {
      "cell_type": "markdown",
      "source": [
        "# Plotting both"
      ],
      "metadata": {
        "id": "XA4P7pHb2VoO"
      }
    },
    {
      "cell_type": "code",
      "source": [
        "plt.plot(new_y_train, label='Actual Close')\n",
        "plt.plot(train_predictions, label='Predicted Close')\n",
        "plt.xlabel('Day')\n",
        "plt.ylabel('Close')\n",
        "plt.legend()\n",
        "plt.show()"
      ],
      "metadata": {
        "colab": {
          "base_uri": "https://localhost:8080/",
          "height": 449
        },
        "id": "hUK3353N2XlH",
        "outputId": "47249ccf-c0a3-493f-d6a8-543bada7a8cf"
      },
      "execution_count": 26,
      "outputs": [
        {
          "output_type": "display_data",
          "data": {
            "text/plain": [
              "<Figure size 640x480 with 1 Axes>"
            ],
            "image/png": "[encoded data removed]"
          },
          "metadata": {}
        }
      ]
    },
    {
      "cell_type": "markdown",
      "source": [
        "# Doing the same thing for test data"
      ],
      "metadata": {
        "id": "T-wQqauz2gpi"
      }
    },
    {
      "cell_type": "code",
      "source": [
        "test_predictions = model(X_test.to(device)).detach().cpu().numpy().flatten()\n",
        "\n",
        "dummies = np.zeros((X_test.shape[0], lookback+1))\n",
        "dummies[:, 0] = test_predictions\n",
        "dummies = scaler.inverse_transform(dummies)\n",
        "\n",
        "test_predictions = dc(dummies[:, 0])\n",
        "test_predictions"
      ],
      "metadata": {
        "colab": {
          "base_uri": "https://localhost:8080/"
        },
        "id": "XHebKvJ12jaJ",
        "outputId": "bee3b4d1-ff33-4de1-a927-cf20f88f25c3"
      },
      "execution_count": 27,
      "outputs": [
        {
          "output_type": "execute_result",
          "data": {
            "text/plain": [
              "array([169.7102131 , 169.25785969, 168.56435044, 168.54709803,\n",
              "       168.7364077 , 168.91391192, 168.60855975, 168.77580368,\n",
              "       168.65682649, 168.68938598, 168.25611917, 168.34587174,\n",
              "       167.9789578 , 167.32709001, 166.56129181, 165.88351205,\n",
              "       165.1489505 , 165.1711163 , 164.83191516, 164.12308773,\n",
              "       163.8982283 , 163.299863  , 162.44768045, 161.05045724,\n",
              "       157.99343396, 155.55330677, 152.73805073, 149.79157852,\n",
              "       147.45506586, 146.34557   , 146.78376131, 148.26987559,\n",
              "       149.3003516 , 148.49061644, 151.42964077, 153.87953358,\n",
              "       156.17901803, 157.66143616, 158.52132226, 158.48083689,\n",
              "       159.80910603, 159.70074486, 159.79350994, 158.99844266,\n",
              "       157.97971652, 156.85859863, 155.41529857, 155.1203401 ,\n",
              "       155.06897192, 154.77744837, 154.38044275, 154.39342653,\n",
              "       153.90468965, 153.5786168 , 151.22606895, 148.6124505 ,\n",
              "       146.84469501, 146.83403453, 146.3958599 , 145.67847295,\n",
              "       146.34398594, 148.76291445, 151.720464  , 154.65932714,\n",
              "       156.59866744, 158.97522083, 161.12017834, 162.64209248,\n",
              "       163.74163374, 165.01915721, 165.85774459, 166.15741636,\n",
              "       165.77758534, 165.69286843, 166.28643151, 166.05952669,\n",
              "       164.82093231, 163.59242037, 162.19553064, 160.65358502,\n",
              "       159.14326512, 158.11437872, 156.78191876, 156.19120144,\n",
              "       156.62062203, 156.54804406, 155.83100171, 154.59356342,\n",
              "       153.41069479, 151.4156732 , 149.2625119 , 147.99244743,\n",
              "       143.12258117, 139.29369578, 136.1221585 , 133.3788079 ,\n",
              "       129.44681377, 125.65216086, 120.29018394, 117.55961147,\n",
              "       114.32834659, 111.84419906, 110.87257801, 110.42591612,\n",
              "       111.17432851, 110.58959173, 110.10318926, 110.08450841,\n",
              "       109.91300141, 108.41149113, 107.87927306, 107.93988995,\n",
              "       109.65456536, 112.25603375, 114.85875828, 118.01603342,\n",
              "       120.50054223, 123.01071845, 124.45047798, 124.93437929,\n",
              "       123.74580802, 121.08063798, 116.96753797, 113.32352687,\n",
              "       111.07611648, 108.39696776, 106.77995968, 106.37222133,\n",
              "       106.66999222, 108.24688732, 110.65840685, 111.58371207,\n",
              "       111.50187982, 111.52716928, 110.72761104, 110.73235212,\n",
              "       111.27174573, 111.54389923, 112.52446886, 113.77919292,\n",
              "       113.91547254, 113.74850096, 113.54302271, 113.03066936,\n",
              "       113.13770214, 113.08252109, 114.08473962, 116.34301614,\n",
              "       119.00401759, 120.77578604, 122.06655452, 121.54628641,\n",
              "       122.44505715, 123.08538072, 125.92691   , 128.32808587,\n",
              "       130.40641816, 133.52988324, 137.58011532, 140.20544474,\n",
              "       142.15675168, 142.36395851, 143.49266324, 144.19918405,\n",
              "       144.87501847, 145.10354626, 145.79056918, 146.02715069,\n",
              "       146.45231376, 145.59378383, 144.04616893, 142.46048088,\n",
              "       141.07499086, 140.33922876, 138.56167986, 136.74654137,\n",
              "       135.30426957, 134.09220967, 133.17790398, 132.25490539,\n",
              "       130.76352201, 130.81322275, 131.02003495, 132.04066753,\n",
              "       133.80962913, 133.24690252, 133.17793733, 132.79249817,\n",
              "       131.50730448, 130.55658197, 128.79596312, 126.08830122,\n",
              "       124.36864573, 121.86811286, 120.17139018, 118.76886452,\n",
              "       118.20505963, 117.23580078, 116.32821486, 116.28872439,\n",
              "       117.75738616, 118.89160455, 119.82046141, 119.02357107,\n",
              "       118.44712145, 117.80205124, 117.08997786, 115.85222276,\n",
              "       113.50960727, 113.03218673, 113.74300953, 114.16438752,\n",
              "       114.71105672, 116.03080525, 117.36030829, 119.27557637,\n",
              "       119.20528278, 117.84467649, 115.07687014, 112.38338702,\n",
              "       108.34869546, 103.73871592,  99.08113661,  95.87349376,\n",
              "        93.43346105,  91.83169891,  89.73780109,  90.48635799,\n",
              "        92.43220686,  93.90991448,  95.1431008 ,  95.8977772 ,\n",
              "        96.143902  ,  96.54604888,  95.63441943,  94.63517173,\n",
              "        94.15477759,  93.54992596,  93.28001517,  92.91895949,\n",
              "        93.50820391,  93.96991719,  94.01855355,  93.33014666,\n",
              "        92.20927888,  91.22534937,  90.88430293,  90.0007031 ,\n",
              "        89.60128248,  89.76303219,  89.98288931,  89.75967231,\n",
              "        89.41234242,  88.3640804 ,  87.59378013,  87.12445777,\n",
              "        85.97635519,  85.31965739,  84.56889948,  83.70978595,\n",
              "        83.64625104,  83.55077916,  83.69712455,  83.93592375,\n",
              "        83.62938214,  84.10303427,  84.88880837,  85.89222744,\n",
              "        87.83905454,  89.46790975,  91.53594284,  93.12364571,\n",
              "        94.14824124,  94.57892908,  95.48716252,  95.91242007,\n",
              "        96.01289426,  96.03061078,  96.6564999 ,  97.90418459,\n",
              "        98.80799933,  99.83046609, 101.15194042, 104.10322319,\n",
              "       104.59859369, 104.56055945, 104.2511165 , 103.69609901,\n",
              "       102.57476713, 101.2636587 ,  99.85191767,  99.49197084,\n",
              "        99.5890907 ,  99.03998149,  98.52616914,  97.68017278,\n",
              "        97.24523298,  96.71125853,  95.73930121,  94.81232856,\n",
              "        94.357952  ,  93.61613988,  93.16974756,  93.25205225,\n",
              "        93.09618858,  93.1031418 ,  93.162044  ,  92.83290029,\n",
              "        92.39798272,  92.36558998,  92.62136647,  93.22151592,\n",
              "        94.55953401,  95.48949137,  96.18480145,  97.54127529,\n",
              "        98.20363125,  98.56933074,  98.65321949,  98.37122812,\n",
              "        98.05108301,  98.51346049,  99.04809913,  99.95974525,\n",
              "       100.57339817, 101.49304522])"
            ]
          },
          "metadata": {},
          "execution_count": 27
        }
      ]
    },
    {
      "cell_type": "code",
      "source": [
        "dummies = np.zeros((X_test.shape[0], lookback+1))\n",
        "dummies[:, 0] = y_test.flatten()\n",
        "dummies = scaler.inverse_transform(dummies)\n",
        "\n",
        "new_y_test = dc(dummies[:, 0])\n",
        "new_y_test"
      ],
      "metadata": {
        "colab": {
          "base_uri": "https://localhost:8080/"
        },
        "id": "McG2zVpo2myI",
        "outputId": "795d4d62-6f03-48f4-e74a-fe5e617c27a8"
      },
      "execution_count": 28,
      "outputs": [
        {
          "output_type": "execute_result",
          "data": {
            "text/plain": [
              "array([170.01749949, 167.07899763, 170.41700626, 171.03700377,\n",
              "       171.0684961 , 169.66949429, 170.66099675, 169.20100565,\n",
              "       168.64449858, 166.71699707, 170.40449492, 167.52200227,\n",
              "       164.35699578, 163.25399737, 162.55400179, 161.48599177,\n",
              "       165.36199892, 165.20699954, 161.21400501, 162.13799851,\n",
              "       158.91749416, 156.29899568, 151.66749509, 142.64300408,\n",
              "       144.54400445, 139.98599336, 138.87249844, 139.63749627,\n",
              "       143.97799855, 149.57350001, 151.19349835, 150.61250219,\n",
              "       138.84550541, 157.63949825, 157.93550165, 161.41349717,\n",
              "       161.18949925, 159.003495  , 153.29350176, 155.1670061 ,\n",
              "       156.51049894, 158.10049453, 154.6524962 , 152.60149876,\n",
              "       150.19749381, 144.82699629, 151.35800212, 153.78849709,\n",
              "       153.56300403, 151.14199678, 152.05250627, 147.89849848,\n",
              "       145.64100565, 137.45300383, 136.01449488, 139.27900567,\n",
              "       146.81750468, 145.52450739, 141.8529947 , 147.36650272,\n",
              "       153.10400311, 157.23899657, 161.25050521, 161.49149987,\n",
              "       164.8890082 , 163.4080074 , 163.64950785, 164.77349929,\n",
              "       168.99049174, 169.31500275, 166.30099379, 162.99749555,\n",
              "       163.55999984, 168.34649425, 164.05499516, 158.75599734,\n",
              "       157.78449856, 154.4604964 , 151.1219931 , 150.78750525,\n",
              "       155.54100108, 151.70649644, 152.78500575, 158.11549591,\n",
              "       153.99799942, 148.29600432, 144.35000372, 146.07400567,\n",
              "       139.39100462, 138.16700588, 144.59649537, 124.2815027 ,\n",
              "       124.50000086, 124.25350088, 125.92849685, 116.40699847,\n",
              "       114.77249899, 108.78900163, 108.85900063, 105.37200234,\n",
              "       106.93049589, 113.05500005, 110.81050072, 115.36850069,\n",
              "       107.11250358, 107.31900035, 107.59100239, 107.55699918,\n",
              "       104.09999809, 106.77500184, 111.07749906, 115.14649953,\n",
              "       120.20950223, 121.68399725, 125.51100121, 122.34999935,\n",
              "       124.79000149, 122.99999961, 121.18000054, 116.15000198,\n",
              "       109.65000214, 103.66999806, 102.30999829, 107.6699986 ,\n",
              "       103.66000386, 106.22000101, 108.67999989, 108.94999683,\n",
              "       112.44000207, 116.45999935, 113.22000127, 107.40000166,\n",
              "       108.91999825, 106.20999917, 109.55999806, 113.50000006,\n",
              "       114.33000152, 116.3300018 , 115.54000075, 111.74999999,\n",
              "       109.22000073, 110.40000137, 110.62999651, 113.55000232,\n",
              "       113.76000211, 118.20999802, 122.76999614, 124.62999702,\n",
              "       122.41999835, 121.13999873, 114.80999825, 120.97000076,\n",
              "       122.28000035, 134.94999758, 135.38999806, 134.16000488,\n",
              "       139.5200031 , 142.57000925, 140.80000272, 139.41000507,\n",
              "       137.83000298, 142.69000357, 140.64000103, 143.55000084,\n",
              "       143.17999102, 144.7799968 , 142.10000324, 142.30000119,\n",
              "       138.22999608, 133.22000121, 133.61999431, 133.80000247,\n",
              "       137.27999891, 130.7499991 , 129.78999174, 128.72999653,\n",
              "       126.76999668, 127.82000117, 127.51000241, 126.11000014,\n",
              "       129.47999576, 129.82000839, 133.27000486, 136.44999605,\n",
              "       126.82000034, 128.55000227, 126.27999811, 123.52999999,\n",
              "       124.66000532, 122.19000322, 118.54000046, 117.30999894,\n",
              "       113.77999884, 115.15000254, 114.41000376, 118.01000286,\n",
              "       114.80000336, 112.99999964, 115.8799967 , 121.08999508,\n",
              "       120.94999707, 120.30000237, 114.55999805, 113.66999803,\n",
              "       112.2099986 , 112.90000206, 112.5299992 , 106.90000263,\n",
              "       113.79000069, 116.36000038, 115.0700003 , 115.25000012,\n",
              "       119.31999967, 119.82000008, 120.59999928, 115.66000341,\n",
              "       110.95999895, 103.41000365, 102.4400021 ,  96.79000116,\n",
              "        92.12000301,  89.30000302,  90.98000304,  90.52999899,\n",
              "        89.98000291,  86.13999884,  96.62999704, 100.79000101,\n",
              "        98.48999791,  98.94000197,  97.1200029 ,  94.84999805,\n",
              "        94.13999897,  92.45999904,  93.199997  ,  94.12999696,\n",
              "        93.410004  ,  93.94999701,  92.41999801,  96.54000095,\n",
              "        95.50000004,  94.12999696,  91.01000197,  88.24999993,\n",
              "        88.45999902,  90.34999813,  89.08999594,  90.55000302,\n",
              "        92.48999797,  91.58000208,  88.44999683,  87.86000102,\n",
              "        84.91999777,  85.19000167,  86.76999681,  83.79000078,\n",
              "        85.25000022,  83.04000085,  81.81999979,  84.17999969,\n",
              "        83.99999987,  85.82000033,  85.13999871,  83.12000309,\n",
              "        86.08000168,  87.3600013 ,  89.87000314,  95.08999606,\n",
              "        95.26999692,  98.12000304,  96.05000307,  95.45999893,\n",
              "        93.68      ,  97.25000011,  97.51999705,  96.32000002,\n",
              "        97.18000006,  99.22000076, 102.2399979 , 100.55000334,\n",
              "       103.12999722, 105.15000257, 112.9100039 , 103.38999927,\n",
              "       102.18000005, 102.11000105, 100.05000292,  98.23999805,\n",
              "        97.61000113,  99.54000066,  99.69999679, 101.16000387,\n",
              "        98.15000197,  97.19999715,  94.58000197,  95.79000102,\n",
              "        95.81999995,  93.5       ,  93.760002  ,  94.23000296,\n",
              "        92.16999798,  92.12999703,  94.90000205,  93.74999998,\n",
              "        93.55000299,  93.919998  ,  92.25000004,  90.73000301,\n",
              "        92.43000003,  94.87999697,  96.19999701, 100.04000108,\n",
              "        98.94999687,  97.70999906, 100.61000119,  98.69999701,\n",
              "        98.70999885,  98.12999689,  98.04000115,  97.23999792,\n",
              "       100.25000017, 102.00000023, 103.290001  , 102.41000421,\n",
              "       103.94999685, 101.09999768])"
            ]
          },
          "metadata": {},
          "execution_count": 28
        }
      ]
    },
    {
      "cell_type": "code",
      "source": [
        "plt.plot(new_y_test, label='Actual Close')\n",
        "plt.plot(test_predictions, label='Predicted Close')\n",
        "plt.xlabel('Day')\n",
        "plt.ylabel('Close')\n",
        "plt.legend()\n",
        "plt.show()"
      ],
      "metadata": {
        "colab": {
          "base_uri": "https://localhost:8080/",
          "height": 449
        },
        "id": "DSiaUN-Y2q0i",
        "outputId": "2f9790a1-675d-4719-acb8-fd688e5160df"
      },
      "execution_count": 29,
      "outputs": [
        {
          "output_type": "display_data",
          "data": {
            "text/plain": [
              "<Figure size 640x480 with 1 Axes>"
            ],
            "image/png": "[encoded data removed]"
          },
          "metadata": {}
        }
      ]
    }
  ]
}